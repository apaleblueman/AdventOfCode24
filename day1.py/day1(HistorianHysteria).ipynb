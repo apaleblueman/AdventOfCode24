{
 "cells": [
  {
   "cell_type": "code",
   "execution_count": 7,
   "id": "14ead98b-ef39-4d46-a151-0b1529fdc7bb",
   "metadata": {},
   "outputs": [
    {
     "name": "stdout",
     "output_type": "stream",
     "text": [
      "Advent of code 2024! Day1\n",
      "Day1 - Historian Hysteria!\n"
     ]
    }
   ],
   "source": [
    "#Day1 Solution\n",
    "print(\"Advent of code 2024! Day1\")\n",
    "print(\"Day1 - Historian Hysteria!\")\n",
    "\n"
   ]
  },
  {
   "cell_type": "code",
   "execution_count": null,
   "id": "861bc62f-f668-48fb-adbb-907ff5a11e80",
   "metadata": {},
   "outputs": [],
   "source": []
  }
 ],
 "metadata": {
  "kernelspec": {
   "display_name": "Python 3 (ipykernel)",
   "language": "python",
   "name": "python3"
  },
  "language_info": {
   "codemirror_mode": {
    "name": "ipython",
    "version": 3
   },
   "file_extension": ".py",
   "mimetype": "text/x-python",
   "name": "python",
   "nbconvert_exporter": "python",
   "pygments_lexer": "ipython3",
   "version": "3.12.7"
  }
 },
 "nbformat": 4,
 "nbformat_minor": 5
}
