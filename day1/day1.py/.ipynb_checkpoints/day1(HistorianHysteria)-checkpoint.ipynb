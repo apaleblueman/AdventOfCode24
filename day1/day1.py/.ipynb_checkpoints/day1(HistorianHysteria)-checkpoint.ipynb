{
 "cells": [
  {
   "cell_type": "code",
   "execution_count": null,
   "id": "14ead98b-ef39-4d46-a151-0b1529fdc7bb",
   "metadata": {},
   "outputs": [],
   "source": [
    "#Day1 Solution\n",
    "print(\"Advent of code 2024! Day1\")\n",
    "print(\"Day1 - Historian Hysteria!\")\n",
    "\n"
   ]
  },
  {
   "cell_type": "code",
   "execution_count": 1,
   "id": "7f1638d0-7c1f-48dc-8227-215d14e0edb6",
   "metadata": {},
   "outputs": [
    {
     "name": "stdout",
     "output_type": "stream",
     "text": [
      "Day1 Problem 1 part 1 ans: 3246517\n"
     ]
    }
   ],
   "source": [
    "#PART1\n",
    "rightIDs=[]\n",
    "leftIDs=[]\n",
    "result = 0\n",
    "input = open('../locationIDs.txt', 'r')\n",
    "for line in input:\n",
    "    leftIDs.append(int(line[0:5]))\n",
    "    rightIDs.append(int(line[8:]))\n",
    "\n",
    "leftIDs.sort()\n",
    "rightIDs.sort()\n",
    "\n",
    "\n",
    "for i in range(1000):\n",
    "    pair = abs(leftIDs[i] - rightIDs[i])\n",
    "    result +=pair \n",
    "\n",
    "print(\"Day1 Problem 1 ans:\",result)\n",
    "    "
   ]
  },
  {
   "cell_type": "code",
   "execution_count": 9,
   "id": "dd1d73e0-4ecb-4f11-a2cb-2c063bde8ece",
   "metadata": {},
   "outputs": [
    {
     "name": "stdout",
     "output_type": "stream",
     "text": [
      "Day1  Problem 2 Answer for similarity score: 29379307\n"
     ]
    }
   ],
   "source": [
    "similarityScore = 0\n",
    "\n",
    "for lnum in leftIDs:\n",
    "    count = 0    \n",
    "    for rnum in rightIDs:\n",
    "        if (lnum == rnum):\n",
    "            count+=1\n",
    "    \n",
    "    lnumScore = lnum * count\n",
    "    similarityScore += lnumScore\n",
    "\n",
    "print(\"Day1  Problem 2 Answer for similarity score:\",similarityScore)"
   ]
  },
  {
   "cell_type": "code",
   "execution_count": null,
   "id": "a2b744a2-de7d-4392-86a7-0d06890e78a1",
   "metadata": {},
   "outputs": [],
   "source": []
  },
  {
   "cell_type": "code",
   "execution_count": null,
   "id": "e04945b8-9052-4636-a905-4e6e5543912e",
   "metadata": {},
   "outputs": [],
   "source": []
  }
 ],
 "metadata": {
  "kernelspec": {
   "display_name": "Python 3 (ipykernel)",
   "language": "python",
   "name": "python3"
  },
  "language_info": {
   "codemirror_mode": {
    "name": "ipython",
    "version": 3
   },
   "file_extension": ".py",
   "mimetype": "text/x-python",
   "name": "python",
   "nbconvert_exporter": "python",
   "pygments_lexer": "ipython3",
   "version": "3.12.7"
  }
 },
 "nbformat": 4,
 "nbformat_minor": 5
}
